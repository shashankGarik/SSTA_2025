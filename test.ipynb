{
 "cells": [
  {
   "cell_type": "code",
   "execution_count": null,
   "id": "43f86a1d",
   "metadata": {},
   "outputs": [],
   "source": [
    "import torch\n",
    "import torch.nn as nn\n",
    "import torch.nn.functional as F\n",
    "import numpy as np\n"
   ]
  },
  {
   "cell_type": "code",
   "execution_count": 83,
   "id": "2ed573d4",
   "metadata": {},
   "outputs": [],
   "source": [
    "output = torch.randint(0, 51, (5,1,128,128,3))/50 # B, 1, H, W, C (mask, T2NO, T2ND-T2NO)\n",
    "gt = torch.randint(0, 51, (5,1,128,128,2))/50 # B, 1, H, W, C (T2NO, T2ND-T2NO)"
   ]
  },
  {
   "cell_type": "code",
   "execution_count": 91,
   "id": "27408c1b",
   "metadata": {},
   "outputs": [
    {
     "data": {
      "text/plain": [
       "tensor(0.8374)"
      ]
     },
     "execution_count": 91,
     "metadata": {},
     "output_type": "execute_result"
    }
   ],
   "source": [
    "def masked_mse(output, gt):\n",
    "    gt_mask = (gt[...,0]!=1).float()\n",
    "    bce = F.binary_cross_entropy_with_logits(output[...,0],gt_mask)\n",
    "\n",
    "    mask = gt_mask.bool()\n",
    "\n",
    "    if mask.sum() != 0:\n",
    "        masked_t2no_pred, masked_t2nd_pred  = output[...,1][mask], output[...,2][mask]\n",
    "        masked_t2no_gt, masked_t2nd_gt      = gt[...,0][mask], gt[...,1][mask]\n",
    "\n",
    "        mse_t2no = F.mse_loss(masked_t2no_pred, masked_t2no_gt)\n",
    "        mse_t2nd = F.mse_loss(masked_t2nd_pred, masked_t2nd_gt)\n",
    "    else:\n",
    "        mse_t2no = torch.tensor(0.0, device=output.device)\n",
    "        mse_t2nd = torch.tensor(0.0, device=output.device)\n",
    "\n",
    "    return bce + mse_t2no + mse_t2nd\n",
    "\n",
    "# out = torch.tensor(np.array([(gt[...,0]!=1).float(), gt[...,0], gt[...,1]])).permute(1,2,3,4,0)\n",
    "masked_mse(output, gt)"
   ]
  },
  {
   "cell_type": "code",
   "execution_count": null,
   "id": "daf49341",
   "metadata": {},
   "outputs": [],
   "source": []
  }
 ],
 "metadata": {
  "kernelspec": {
   "display_name": "ssta_env",
   "language": "python",
   "name": "python3"
  },
  "language_info": {
   "codemirror_mode": {
    "name": "ipython",
    "version": 3
   },
   "file_extension": ".py",
   "mimetype": "text/x-python",
   "name": "python",
   "nbconvert_exporter": "python",
   "pygments_lexer": "ipython3",
   "version": "3.12.7"
  }
 },
 "nbformat": 4,
 "nbformat_minor": 5
}
